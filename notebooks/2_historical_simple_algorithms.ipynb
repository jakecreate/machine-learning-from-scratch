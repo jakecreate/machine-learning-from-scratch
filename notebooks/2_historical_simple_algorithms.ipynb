{
 "cells": [
  {
   "cell_type": "markdown",
   "id": "fc1e97a3",
   "metadata": {},
   "source": [
    "# Historical Simple Algorithms"
   ]
  },
  {
   "cell_type": "code",
   "execution_count": 1,
   "id": "87438050",
   "metadata": {},
   "outputs": [],
   "source": [
    "# all modules used in this notebook\n",
    "import numpy as np\n",
    "import matplotlib\n",
    "import matplotlib.pyplot as plt\n",
    "import math\n",
    "\n",
    "# personal color pallete\n",
    "c_ = {\n",
    "    'red': '#ff6188',\n",
    "    'orange': '#fc9867',\n",
    "    'yellow': '#ffd866',\n",
    "    'green': '#a8dd76',\n",
    "    'blue': '#78dce8',\n",
    "    'purple': '#ac9df2',\n",
    "    'grey': '#2c2a2e',\n",
    "    'white': '#fcfcfa',\n",
    "    'black': '#211f22' \n",
    "}\n",
    "\n",
    "# global params\n",
    "matplotlib.rcParams['font.family'] = 'Arial'\n",
    "plt.rcParams['figure.facecolor'] = c_['black']\n",
    "plt.rcParams['axes.facecolor'] = c_['black']\n",
    "plt.rcParams['text.color'] = c_['white']\n",
    "plt.rcParams['axes.labelcolor'] = c_['white']\n",
    "plt.rcParams['xtick.color'] = c_['white']\n",
    "plt.rcParams['ytick.color'] = c_['white']\n"
   ]
  },
  {
   "cell_type": "markdown",
   "id": "c86e98a8",
   "metadata": {},
   "source": [
    "## Data Generation\n"
   ]
  },
  {
   "cell_type": "code",
   "execution_count": 34,
   "id": "7cf7869a",
   "metadata": {},
   "outputs": [
    {
     "data": {
      "image/png": "[encoded data removed]",
      "text/plain": [
       "<Figure size 640x480 with 1 Axes>"
      ]
     },
     "metadata": {},
     "output_type": "display_data"
    }
   ],
   "source": [
    "SEED = 819\n",
    "np.random.seed(SEED)\n",
    "\n",
    "n_samples = 150\n",
    "mean = [0, 0]    \n",
    "cov = [[2, 0],    \n",
    "       [0, 0.5]]\n",
    "angle = 45 \n",
    "\n",
    "data = np.random.multivariate_normal(mean, cov, int(n_samples/2))\n",
    "\n",
    "theta = np.radians(angle)\n",
    "rotation_matrix = np.array([[np.cos(theta), -np.sin(theta)],\n",
    "                            [np.sin(theta), np.cos(theta)]])\n",
    "theta += 5\n",
    "\n",
    "rotation_matrix1 = np.array([[np.cos(theta), -np.sin(theta)],\n",
    "                            [np.sin(theta), np.cos(theta)]])\n",
    "\n",
    "rotated_data = data @ rotation_matrix\n",
    "rotated_data1 = data @ rotation_matrix1\n",
    "X = np.vstack([rotated_data + 6, rotated_data1 + 10])\n",
    "y = np.vstack([np.zeros(int(n_samples/2)), np.ones(int(n_samples/2))]).flatten()\n",
    "\n",
    "# Scatter plot\n",
    "fig, ax = plt.subplots()\n",
    "group = X[y == 0]\n",
    "group1 = X[y == 1]\n",
    "ax.scatter(group[:, 0], group[:, 1], alpha=0.8, c=c_['blue'])\n",
    "ax.scatter(group1[:, 0], group1[:, 1], alpha=0.8, c=c_['orange'])\n",
    "ax.set_title('Class')\n",
    "ax.set_xlabel('Lecture attendance')\n",
    "ax.set_ylabel('Quiz Performance')\n",
    "\n",
    "ax.spines[['top', 'right']].set_visible(False)\n",
    "ax.spines[['bottom', 'left']].set_color(c_['white'])\n",
    "plt.show()"
   ]
  },
  {
   "cell_type": "markdown",
   "id": "a30dd50c",
   "metadata": {},
   "source": [
    "## Rosenblatt's Perceptron"
   ]
  },
  {
   "cell_type": "markdown",
   "id": "01a0d385",
   "metadata": {},
   "source": [
    "This learning algorithm involves mimicking simplfied neurons where it fires (value of $1$) when a threshold of values are met, hence:\n",
    "$$\n",
    "\\sigma(z) =\n",
    "\\begin{cases} \n",
    "1 & \\text{if } z \\ge 0 \\\\ \n",
    "0 & \\text{otherwise}\n",
    "\\end{cases}\n",
    "$$\n",
    "where\n",
    "$$z = \\vec{w}^T\\vec{x} + b$$\n",
    "The **bias unit** $b$ is $ -\\theta$\n"
   ]
  },
  {
   "cell_type": "markdown",
   "id": "dc310cc7",
   "metadata": {},
   "source": [
    "### Perceptron learning rule\n",
    "$$\\vec{w} = \\text{small random numbers}, \\ b = 0 \\tag{1}$$\n",
    "For each training example, $x^{(i)}$, compute $\\hat{y}^{(i)}$:\n",
    "\n",
    "$$\\hat{y}^{(i)} = \\sigma(z^{(i)}) \\tag{2}$$\n",
    "then update weights and bias:\n",
    "$$w_j \\coloneqq w_j + \\eta(y^{(i)} - \\hat{y}^{(i)})x_j^{(i)}\\tag{3}$$\n",
    "$$b \\coloneqq b + \\eta(y^{(i)} - \\hat{y}^{(i)})$$\n",
    "\n",
    "Repeat steps $(2)$ & $(3)$ until max epochs and/or max misclassifications is met.\n",
    "\n"
   ]
  },
  {
   "cell_type": "markdown",
   "id": "b8d16024",
   "metadata": {},
   "source": [
    "### Implementation of `Perceptron()` Class"
   ]
  },
  {
   "cell_type": "code",
   "execution_count": 3,
   "id": "8697ffe6",
   "metadata": {},
   "outputs": [],
   "source": [
    "class Perceptron():\n",
    "    \n",
    "    def __init__(self, eta, n_epochs):\n",
    "        self._w = None\n",
    "        self._b = None\n",
    "        self._eta = eta\n",
    "        self._n_epochs = n_epochs\n",
    "        \n",
    "    def _net_input(self, X):\n",
    "        return X @ self._w + self._b\n",
    "    \n",
    "    def predict(self, X):\n",
    "        return np.where(self._net_input(X) >= 0, 1, 0)\n",
    "    \n",
    "    def fit(self, X, y):\n",
    "        m = X.shape[0]\n",
    "        n = X.shape[1]\n",
    "        \n",
    "        self._w = np.random.rand(n)\n",
    "        self._b = 0\n",
    "    \n",
    "        for i in range(self._n_epochs):\n",
    "            # predict & calc error\n",
    "            y_pred = self.predict(X)\n",
    "            error = (y - y_pred).rehshape(-1, 1)\n",
    "            # update\n",
    "            self._w = self._w + self._eta * error * X\n",
    "            self._b = self._b = self._eta * error"
   ]
  },
  {
   "cell_type": "code",
   "execution_count": 4,
   "id": "314b5874",
   "metadata": {},
   "outputs": [
    {
     "name": "stdout",
     "output_type": "stream",
     "text": [
      "[0.5 2. ]\n",
      "[[2 2]\n",
      " [3 3]]\n"
     ]
    },
    {
     "data": {
      "text/plain": [
       "array([[1., 1.],\n",
       "       [6., 6.]])"
      ]
     },
     "execution_count": 4,
     "metadata": {},
     "output_type": "execute_result"
    }
   ],
   "source": [
    "a = np.array([0.5, 2])\n",
    "b = np.array([[2, 2], [3, 3]])\n",
    "print(a)\n",
    "print(b)\n",
    "\n",
    "a.reshape(-1, 1) * b"
   ]
  }
 ],
 "metadata": {
  "kernelspec": {
   "display_name": "ml_env",
   "language": "python",
   "name": "python3"
  },
  "language_info": {
   "codemirror_mode": {
    "name": "ipython",
    "version": 3
   },
   "file_extension": ".py",
   "mimetype": "text/x-python",
   "name": "python",
   "nbconvert_exporter": "python",
   "pygments_lexer": "ipython3",
   "version": "3.12.11"
  }
 },
 "nbformat": 4,
 "nbformat_minor": 5
}
